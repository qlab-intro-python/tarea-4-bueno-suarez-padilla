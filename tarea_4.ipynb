{
 "cells": [
  {
   "cell_type": "markdown",
   "metadata": {},
   "source": [
    "# **Tarea Nº 4**"
   ]
  },
  {
   "cell_type": "markdown",
   "metadata": {},
   "source": [
    "- Fecha y hora de entrega: Domingo 12 de enero, 11:59pm\n",
    "- Agregue los nombres de las personas con las que discutió esta tarea: ____ Armando Paredes ______\n",
    "- Envíe su tarea haciendo el `push` de su código a su repo en GitHub Classroom: "
   ]
  },
  {
   "cell_type": "markdown",
   "metadata": {},
   "source": [
    "## **Mercado de autos usados**"
   ]
  },
  {
   "cell_type": "markdown",
   "metadata": {},
   "source": [
    "Importa el conjunto de datos `neoauto_20240924.csv`\n",
    "    "
   ]
  },
  {
   "cell_type": "code",
   "execution_count": 8,
   "metadata": {},
   "outputs": [],
   "source": [
    "import pandas as pd\n",
    "from datetime import datetime\n",
    "\n",
    "directorio = \"C:/Users/cbuen/repositorios/tarea-4-bueno-suarez-padilla\"\n",
    "file_path = directorio + \"/neoauto_20240924.csv\"\n",
    "data = pd.read_csv(file_path)"
   ]
  },
  {
   "cell_type": "markdown",
   "metadata": {},
   "source": [
    "1. ¿Cuál es el precio promedio de los autos de cada marca (`item_brand`) publicados en cada subcategoría (`item_category_2`)?"
   ]
  },
  {
   "cell_type": "code",
   "execution_count": 10,
   "metadata": {},
   "outputs": [
    {
     "name": "stdout",
     "output_type": "stream",
     "text": [
      "Precio promedio por marca y subcategoría:\n",
      "       item_brand item_category_2  average_price\n",
      "0      ALFA-ROMEO       Hatchback    8500.000000\n",
      "1      ALFA-ROMEO           Sedan    2500.000000\n",
      "2    ASTON MARTIN  Camionetas Suv  229000.000000\n",
      "3    ASTON MARTIN       Deportivo  169990.000000\n",
      "4    ASTON MARTIN           Sedan  149900.000000\n",
      "..            ...             ...            ...\n",
      "197         VOLVO  Camionetas Suv   41801.707317\n",
      "198         VOLVO       Deportivo    8800.000000\n",
      "199         VOLVO       Hatchback   12772.500000\n",
      "200         VOLVO           Sedan   11458.333333\n",
      "201         VOLVO   Station Wagon    6100.000000\n",
      "\n",
      "[202 rows x 3 columns]\n"
     ]
    }
   ],
   "source": [
    "average_price_brand_category = data.groupby(['item_brand', 'item_category_2'])['item_price'].mean().reset_index()\n",
    "average_price_brand_category.rename(columns={'item_price': 'average_price'}, inplace=True)\n",
    "print(\"Precio promedio por marca y subcategoría:\")\n",
    "print(average_price_brand_category)"
   ]
  },
  {
   "cell_type": "markdown",
   "metadata": {},
   "source": [
    "2. ¿Cuántos autos tienen más de 100,000 kilómetros (`item_km`) pero un precio (`item_price`) menor al promedio general?"
   ]
  },
  {
   "cell_type": "code",
   "execution_count": 12,
   "metadata": {},
   "outputs": [
    {
     "name": "stdout",
     "output_type": "stream",
     "text": [
      "\n",
      "Cantidad de autos con más de 100,000 km y precio menor al promedio general: 497\n"
     ]
    }
   ],
   "source": [
    "general_average_price = data['item_price'].mean()\n",
    "filtered_cars = data[(data['item_km'] > 100000) & (data['item_price'] < general_average_price)]\n",
    "count_filtered_cars = filtered_cars.shape[0]\n",
    "print(f\"\\nCantidad de autos con más de 100,000 km y precio menor al promedio general: {count_filtered_cars}\")"
   ]
  },
  {
   "cell_type": "markdown",
   "metadata": {},
   "source": [
    "3. Encuentra el modelo (`item_name`) más caro y el más barato de cada marca (`item_brand`)."
   ]
  },
  {
   "cell_type": "code",
   "execution_count": 14,
   "metadata": {},
   "outputs": [
    {
     "name": "stdout",
     "output_type": "stream",
     "text": [
      "\n",
      "Modelo más caro y más barato por marca:\n",
      "      item_brand      most_expensive_model  highest_price  \\\n",
      "0     ALFA-ROMEO       alfa-romeo 147 2006         8500.0   \n",
      "1   ASTON MARTIN     aston martin dbx 2021       229000.0   \n",
      "2           AUDI            audi rs 6 2024       220000.0   \n",
      "3         AUSTIN   austin mini cooper 1970            1.0   \n",
      "4           BAIC             baic x55 2021        12800.0   \n",
      "..           ...                       ...            ...   \n",
      "68           SWM          swm g05 pro 2022        14000.0   \n",
      "69        TOYOTA         toyota hilux 2019       100000.0   \n",
      "70       TRIUMPH         triumph tr-7 1971        18900.0   \n",
      "71    VOLKSWAGEN  volkswagen teramont 2023        48900.0   \n",
      "72         VOLVO          volvo xc-90 2023        84990.0   \n",
      "\n",
      "             least_expensive_model  lowest_price  \n",
      "0          alfa-romeo alfasud 1982        2500.0  \n",
      "1           aston martin db11 2017      149900.0  \n",
      "2               audi a3 sedan 2015           0.0  \n",
      "3          austin mini cooper 1970           1.0  \n",
      "4                   baic plus 2018        7500.0  \n",
      "..                             ...           ...  \n",
      "68                swm g05 pro 2022       14000.0  \n",
      "69  toyota land cruiser prado 2011           0.0  \n",
      "70               triumph tr-7 1971       18900.0  \n",
      "71            volkswagen bora 2015           0.0  \n",
      "72            volvo 850 turbo 1995        2100.0  \n",
      "\n",
      "[73 rows x 5 columns]\n"
     ]
    }
   ],
   "source": [
    "most_expensive = data.loc[data.groupby('item_brand')['item_price'].idxmax()][['item_brand', 'item_name', 'item_price']]\n",
    "most_expensive.rename(columns={'item_name': 'most_expensive_model', 'item_price': 'highest_price'}, inplace=True)\n",
    "\n",
    "least_expensive = data.loc[data.groupby('item_brand')['item_price'].idxmin()][['item_brand', 'item_name', 'item_price']]\n",
    "least_expensive.rename(columns={'item_name': 'least_expensive_model', 'item_price': 'lowest_price'}, inplace=True)\n",
    "\n",
    "price_extremes_by_brand = pd.merge(most_expensive, least_expensive, on='item_brand')\n",
    "print(\"\\nModelo más caro y más barato por marca:\")\n",
    "print(price_extremes_by_brand)"
   ]
  },
  {
   "cell_type": "markdown",
   "metadata": {},
   "source": [
    "4. Encuentra las tres marcas con mayor número de autos financiados por Santander (`item_financed_by`). "
   ]
  },
  {
   "cell_type": "code",
   "execution_count": 16,
   "metadata": {},
   "outputs": [
    {
     "name": "stdout",
     "output_type": "stream",
     "text": [
      "\n",
      "Top 3 marcas con autos financiados por Santander:\n",
      "  item_brand  count\n",
      "0        BMW    296\n",
      "1     TOYOTA    261\n",
      "2     NISSAN    228\n"
     ]
    }
   ],
   "source": [
    "santander_financed = data[data['item_financed_by'] == 'Santander']\n",
    "top_santander_brands = santander_financed['item_brand'].value_counts().head(3).reset_index()\n",
    "top_santander_brands.columns = ['item_brand', 'count']\n",
    "print(\"\\nTop 3 marcas con autos financiados por Santander:\")\n",
    "print(top_santander_brands)"
   ]
  },
  {
   "cell_type": "markdown",
   "metadata": {},
   "source": [
    "5. Agrupa las publicaciones por tipo de transmisión (`item_transmission`) y calcula la desviación estándar del precio (`item_price`) para cada tipo.  "
   ]
  },
  {
   "cell_type": "code",
   "execution_count": 18,
   "metadata": {},
   "outputs": [
    {
     "name": "stdout",
     "output_type": "stream",
     "text": [
      "\n",
      "Desviación estándar del precio por transmisión:\n",
      "         item_transmission  price_std_dev\n",
      "0               Automática   15332.729048\n",
      "1  Automática - Secuencial   22678.641589\n",
      "2                 Mecánica    8137.122127\n"
     ]
    }
   ],
   "source": [
    "std_price_by_transmission = data.groupby('item_transmission')['item_price'].std().reset_index()\n",
    "std_price_by_transmission.rename(columns={'item_price': 'price_std_dev'}, inplace=True)\n",
    "print(\"\\nDesviación estándar del precio por transmisión:\")\n",
    "print(std_price_by_transmission)"
   ]
  },
  {
   "cell_type": "markdown",
   "metadata": {},
   "source": [
    "6. ¿Cuál es el kilometraje promedio de las publicaciones con el tag \"Premium\" y de las publicaciones con el tag \"Como nuevo\"?"
   ]
  },
  {
   "cell_type": "code",
   "execution_count": 20,
   "metadata": {},
   "outputs": [
    {
     "name": "stdout",
     "output_type": "stream",
     "text": [
      "\n",
      "Kilometraje promedio por tag:\n",
      "     item_tag    average_km\n",
      "0  Como nuevo  35963.476190\n",
      "1     Premium  48400.235897\n"
     ]
    }
   ],
   "source": [
    "average_km_by_tag = data[data['item_tag'].isin(['Premium', 'Como nuevo'])].groupby('item_tag')['item_km'].mean().reset_index()\n",
    "average_km_by_tag.rename(columns={'item_km': 'average_km'}, inplace=True)\n",
    "print(\"\\nKilometraje promedio por tag:\")\n",
    "print(average_km_by_tag)"
   ]
  },
  {
   "cell_type": "markdown",
   "metadata": {},
   "source": [
    "7. ¿Cuáles son las marcas de vehículas para los que todos sus modelos fabricados en los últimos 5 años tienen al menos 5 publicaciones cada una?"
   ]
  },
  {
   "cell_type": "code",
   "execution_count": 26,
   "metadata": {},
   "outputs": [
    {
     "name": "stdout",
     "output_type": "stream",
     "text": [
      "No se encontraron marcas cuyos modelos fabricados en los últimos 5 años tengan al menos 5 publicaciones cada uno.\n"
     ]
    }
   ],
   "source": [
    "current_year = datetime.now().year\n",
    "recent_cars = data[data['item_year'] >= current_year - 5]\n",
    "recent_model_counts = recent_cars.groupby(['item_brand', 'item_name']).size().reset_index(name='count')\n",
    "sufficient_publications = recent_model_counts[recent_model_counts['count'] >= 5]\n",
    "\n",
    "brands_with_all_models = sufficient_publications.groupby('item_brand')['item_name'].nunique()\n",
    "total_models_by_brand = recent_cars.groupby('item_brand')['item_name'].nunique()\n",
    "\n",
    "brands_with_all_models_df = pd.DataFrame({\n",
    "    'brand': brands_with_all_models.index,\n",
    "    'all_model_count': brands_with_all_models.values\n",
    "}).set_index('brand')\n",
    "\n",
    "total_models_by_brand_df = pd.DataFrame({\n",
    "    'brand': total_models_by_brand.index,\n",
    "    'total_model_count': total_models_by_brand.values\n",
    "}).set_index('brand')\n",
    "\n",
    "comparison_df = pd.merge(brands_with_all_models_df, total_models_by_brand_df, left_index=True, right_index=True)\n",
    "valid_brands = comparison_df[comparison_df['all_model_count'] == comparison_df['total_model_count']].index.tolist()\n",
    "\n",
    "\n",
    "if (len(valid_brands) == 0):\n",
    "    print(\"No se encontraron marcas cuyos modelos fabricados en los últimos 5 años tengan al menos 5 publicaciones cada uno.\")\n",
    "else:\n",
    "    print(\"\\nMarcas cuyos modelos fabricados en los últimos 5 años tienen al menos 5 publicaciones cada uno:\")\n",
    "    print(valid_brands)"
   ]
  },
  {
   "cell_type": "markdown",
   "metadata": {},
   "source": [
    "## **Evolución económica internacional**"
   ]
  },
  {
   "cell_type": "markdown",
   "metadata": {},
   "source": [
    "Importa el conjunto de datos de la hoja \"Data\" del archivo `pwt1001.xlsx`. El diccionario de variables está disponible en la hoja \"Legend\" del archivo Excel.\n",
    "    "
   ]
  },
  {
   "cell_type": "markdown",
   "metadata": {},
   "source": [
    "1. Calcule el PBI per cápita real ajustado por poder de paridad de compra (PPP). Use la variable de PBI que se calcula por gasto y la población. ¿Cuáles son los 10 países top?"
   ]
  },
  {
   "cell_type": "code",
   "execution_count": null,
   "metadata": {},
   "outputs": [],
   "source": [
    "# Solución"
   ]
  },
  {
   "cell_type": "markdown",
   "metadata": {},
   "source": [
    "2. Genera el ránking de los países con el mayor incremento del PBI per cápita real PPP entre los años 1990 y 2019. ¿Dónde se ubica Perú? Para los países que no tengan información para dichos años, puede utilizar datos provenientes de hasta dos años antes o después"
   ]
  },
  {
   "cell_type": "code",
   "execution_count": null,
   "metadata": {},
   "outputs": [],
   "source": [
    "# Solución"
   ]
  },
  {
   "cell_type": "markdown",
   "metadata": {},
   "source": [
    "3. Para el periodo 2010-2019, calcule el promedio del índice del capital humano. ¿Qué relación existe entre esta variable y el PBI per cápita real PPP calculado previamente? ¿y el número de horas laboradas al año por los trabajadores?"
   ]
  },
  {
   "cell_type": "code",
   "execution_count": null,
   "metadata": {},
   "outputs": [],
   "source": [
    "# Solución"
   ]
  },
  {
   "cell_type": "markdown",
   "metadata": {},
   "source": [
    "4. A partir de la variable del precio de los hogares, calcula los países y los años en los cuales se registró la mayor inflación anual para todo el periodo de tiempo disponible en la base de datos"
   ]
  },
  {
   "cell_type": "code",
   "execution_count": null,
   "metadata": {},
   "outputs": [],
   "source": [
    "# Solución"
   ]
  },
  {
   "cell_type": "markdown",
   "metadata": {},
   "source": [
    "5. ¿Cuáles son los países con la mayor cantidad de missing values en la variable de productividad total de factores a precios corrientes?"
   ]
  },
  {
   "cell_type": "code",
   "execution_count": null,
   "metadata": {},
   "outputs": [],
   "source": [
    "# Solución"
   ]
  },
  {
   "cell_type": "markdown",
   "metadata": {},
   "source": [
    "6.  Agrupa los datos por país y calcula el promedio de las horas trabajadas anuales (avh) y de la educación promedio (hc) para el periodo 2000-2020."
   ]
  },
  {
   "cell_type": "code",
   "execution_count": null,
   "metadata": {},
   "outputs": [],
   "source": [
    "# Solución"
   ]
  },
  {
   "cell_type": "markdown",
   "metadata": {},
   "source": [
    "7.  Genere una variable que ordene a los países según el porcetaje de formación brutal de capital del 2019. Luego, estable diez grupos a manera de deciles. ¿En qué decil se ubica Péru? Vuelva a calcular usando la información de 1990. ¿El Perú se mantiene en el mismo décil o cambia?"
   ]
  },
  {
   "cell_type": "code",
   "execution_count": null,
   "metadata": {},
   "outputs": [],
   "source": [
    "# Solución"
   ]
  },
  {
   "cell_type": "markdown",
   "metadata": {},
   "source": [
    "## **Transacciones Financieras**"
   ]
  },
  {
   "cell_type": "markdown",
   "metadata": {},
   "source": [
    "Importa el conjunto de datos `base_financiera.csv`\n",
    "    "
   ]
  },
  {
   "cell_type": "markdown",
   "metadata": {},
   "source": [
    "8. Filtra todas las transacciones de tipo \"Debit\" en las que el monto sea mayor a 200, y calcula el monto total de esas transacciones. Además, determina cuántos clientes únicos realizaron esas transacciones."
   ]
  },
  {
   "cell_type": "code",
   "execution_count": null,
   "metadata": {},
   "outputs": [],
   "source": [
    "# Solución"
   ]
  },
  {
   "cell_type": "markdown",
   "metadata": {},
   "source": [
    "9. Identifica las transacciones con valores nulos en la columna (`Amount`) . Rellena esos valores con la mediana de los montos por tipo de transacción (`Transaction_Type`) y luego calcula el monto total de transacciones por región (`region`) ."
   ]
  },
  {
   "cell_type": "code",
   "execution_count": null,
   "metadata": {},
   "outputs": [],
   "source": [
    "# Solución"
   ]
  },
  {
   "cell_type": "markdown",
   "metadata": {},
   "source": [
    "10. Busca transacciones duplicadas considerando las columnas (`Customer_ID`) y (`Date`). Elimina los duplicados manteniendo solo la primera ocurrencia. Luego, agrupa las transacciones restantes por (`Customer_ID`) y calcula el monto promedio y la cantidad de transacciones por cliente."
   ]
  },
  {
   "cell_type": "code",
   "execution_count": null,
   "metadata": {},
   "outputs": [],
   "source": [
    "# Solución"
   ]
  }
 ],
 "metadata": {
  "hide_input": false,
  "kernelspec": {
   "display_name": "Python [conda env:base] *",
   "language": "python",
   "name": "conda-base-py"
  },
  "language_info": {
   "codemirror_mode": {
    "name": "ipython",
    "version": 3
   },
   "file_extension": ".py",
   "mimetype": "text/x-python",
   "name": "python",
   "nbconvert_exporter": "python",
   "pygments_lexer": "ipython3",
   "version": "3.12.7"
  },
  "toc": {
   "base_numbering": 1,
   "nav_menu": {},
   "number_sections": true,
   "sideBar": true,
   "skip_h1_title": false,
   "title_cell": "Table of Contents",
   "title_sidebar": "Contents",
   "toc_cell": false,
   "toc_position": {},
   "toc_section_display": true,
   "toc_window_display": false
  }
 },
 "nbformat": 4,
 "nbformat_minor": 4
}
